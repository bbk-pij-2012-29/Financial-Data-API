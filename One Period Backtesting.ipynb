{
 "cells": [
  {
   "cell_type": "code",
   "execution_count": 1,
   "id": "d37c54a5-4305-43e9-9ca7-9e502cae247c",
   "metadata": {},
   "outputs": [],
   "source": [
    "%load_ext autoreload\n",
    "%autoreload 2"
   ]
  },
  {
   "cell_type": "code",
   "execution_count": 2,
   "id": "60dfca0e-8e8a-42c2-8e03-1ac3ff862feb",
   "metadata": {},
   "outputs": [],
   "source": [
    "from FinancialDataAPI import FinancialDataAPI\n",
    "from datetime import date, datetime, timedelta\n",
    "import pandas as pd\n",
    "import numpy as np"
   ]
  },
  {
   "cell_type": "code",
   "execution_count": 3,
   "id": "4b5a5515-697a-43fe-ad13-a29a48947871",
   "metadata": {},
   "outputs": [],
   "source": [
    "api = FinancialDataAPI()"
   ]
  },
  {
   "cell_type": "code",
   "execution_count": 4,
   "id": "1386e43f-24ce-4277-8d55-1d62d7f1d518",
   "metadata": {},
   "outputs": [],
   "source": [
    "ref_date = date(2018, 12, 31)\n",
    "fwd_date = date(2019, 1, 31)"
   ]
  },
  {
   "cell_type": "code",
   "execution_count": 5,
   "id": "8ded93a5-4c3b-4d27-ad3a-0af343a5b602",
   "metadata": {},
   "outputs": [
    {
     "data": {
      "text/plain": [
       "2359"
      ]
     },
     "execution_count": 5,
     "metadata": {},
     "output_type": "execute_result"
    }
   ],
   "source": [
    "universe = api.get_all_tickers(as_of_date=ref_date)\n",
    "len(universe)"
   ]
  },
  {
   "cell_type": "code",
   "execution_count": 6,
   "id": "216c5548-d9f3-4179-9847-2c2c320e9878",
   "metadata": {},
   "outputs": [
    {
     "name": "stdout",
     "output_type": "stream",
     "text": [
      "Volume (Volume) \n",
      "  Parameters: start, end, fill_prev \n",
      "  start: Date, end: Date, fill_prev: Str [y/n] \n",
      "\n",
      "\n"
     ]
    }
   ],
   "source": [
    "api.display_field_info('Volume')"
   ]
  },
  {
   "cell_type": "code",
   "execution_count": 7,
   "id": "ad22693c-cb4a-4911-9333-ffaf2ba2d3e9",
   "metadata": {},
   "outputs": [
    {
     "data": {
      "text/html": [
       "<div>\n",
       "<style scoped>\n",
       "    .dataframe tbody tr th:only-of-type {\n",
       "        vertical-align: middle;\n",
       "    }\n",
       "\n",
       "    .dataframe tbody tr th {\n",
       "        vertical-align: top;\n",
       "    }\n",
       "\n",
       "    .dataframe thead th {\n",
       "        text-align: right;\n",
       "    }\n",
       "</style>\n",
       "<table border=\"1\" class=\"dataframe\">\n",
       "  <thead>\n",
       "    <tr style=\"text-align: right;\">\n",
       "      <th></th>\n",
       "      <th>Date</th>\n",
       "      <th>Close</th>\n",
       "      <th>Turnover</th>\n",
       "    </tr>\n",
       "    <tr>\n",
       "      <th>Ticker</th>\n",
       "      <th></th>\n",
       "      <th></th>\n",
       "      <th></th>\n",
       "    </tr>\n",
       "  </thead>\n",
       "  <tbody>\n",
       "    <tr>\n",
       "      <th>GOOG</th>\n",
       "      <td>2018-12-01</td>\n",
       "      <td>1094.43</td>\n",
       "      <td>2.824299e+09</td>\n",
       "    </tr>\n",
       "    <tr>\n",
       "      <th>GOOG</th>\n",
       "      <td>2018-12-02</td>\n",
       "      <td>1094.43</td>\n",
       "      <td>2.824299e+09</td>\n",
       "    </tr>\n",
       "    <tr>\n",
       "      <th>GOOG</th>\n",
       "      <td>2018-12-03</td>\n",
       "      <td>1106.43</td>\n",
       "      <td>2.202634e+09</td>\n",
       "    </tr>\n",
       "    <tr>\n",
       "      <th>GOOG</th>\n",
       "      <td>2018-12-04</td>\n",
       "      <td>1050.82</td>\n",
       "      <td>2.464347e+09</td>\n",
       "    </tr>\n",
       "    <tr>\n",
       "      <th>GOOG</th>\n",
       "      <td>2018-12-05</td>\n",
       "      <td>1050.82</td>\n",
       "      <td>2.464347e+09</td>\n",
       "    </tr>\n",
       "  </tbody>\n",
       "</table>\n",
       "</div>"
      ],
      "text/plain": [
       "             Date    Close      Turnover\n",
       "Ticker                                  \n",
       "GOOG   2018-12-01  1094.43  2.824299e+09\n",
       "GOOG   2018-12-02  1094.43  2.824299e+09\n",
       "GOOG   2018-12-03  1106.43  2.202634e+09\n",
       "GOOG   2018-12-04  1050.82  2.464347e+09\n",
       "GOOG   2018-12-05  1050.82  2.464347e+09"
      ]
     },
     "execution_count": 7,
     "metadata": {},
     "output_type": "execute_result"
    }
   ],
   "source": [
    "interval = timedelta(days=30)\n",
    "\n",
    "volume_30d = api.get_data(\n",
    "    universe, 'Volume', \n",
    "    start=ref_date - interval, end=ref_date, fill_prev='y', adj='n'\n",
    ")\n",
    "\n",
    "price_30d = api.get_data(\n",
    "    universe, 'Close', \n",
    "    start=ref_date - interval, end=ref_date, fill_prev='y', adj='n'\n",
    ")\n",
    "\n",
    "price_30d['Turnover'] = volume_30d['Volume'] * price_30d['Close']\n",
    "\n",
    "price_30d.head()"
   ]
  },
  {
   "cell_type": "code",
   "execution_count": 8,
   "id": "2a8ba3c3-3f89-4c80-92d0-5518398e47c5",
   "metadata": {},
   "outputs": [
    {
     "data": {
      "text/html": [
       "<div>\n",
       "<style scoped>\n",
       "    .dataframe tbody tr th:only-of-type {\n",
       "        vertical-align: middle;\n",
       "    }\n",
       "\n",
       "    .dataframe tbody tr th {\n",
       "        vertical-align: top;\n",
       "    }\n",
       "\n",
       "    .dataframe thead th {\n",
       "        text-align: right;\n",
       "    }\n",
       "</style>\n",
       "<table border=\"1\" class=\"dataframe\">\n",
       "  <thead>\n",
       "    <tr style=\"text-align: right;\">\n",
       "      <th></th>\n",
       "      <th>Turnover</th>\n",
       "    </tr>\n",
       "    <tr>\n",
       "      <th>Ticker</th>\n",
       "      <th></th>\n",
       "    </tr>\n",
       "  </thead>\n",
       "  <tbody>\n",
       "    <tr>\n",
       "      <th>A</th>\n",
       "      <td>1.823797e+08</td>\n",
       "    </tr>\n",
       "    <tr>\n",
       "      <th>AA</th>\n",
       "      <td>9.521177e+07</td>\n",
       "    </tr>\n",
       "    <tr>\n",
       "      <th>AAL</th>\n",
       "      <td>3.102825e+08</td>\n",
       "    </tr>\n",
       "    <tr>\n",
       "      <th>AAMC</th>\n",
       "      <td>2.526800e+05</td>\n",
       "    </tr>\n",
       "    <tr>\n",
       "      <th>AAME</th>\n",
       "      <td>6.597855e+03</td>\n",
       "    </tr>\n",
       "  </tbody>\n",
       "</table>\n",
       "</div>"
      ],
      "text/plain": [
       "            Turnover\n",
       "Ticker              \n",
       "A       1.823797e+08\n",
       "AA      9.521177e+07\n",
       "AAL     3.102825e+08\n",
       "AAMC    2.526800e+05\n",
       "AAME    6.597855e+03"
      ]
     },
     "execution_count": 8,
     "metadata": {},
     "output_type": "execute_result"
    }
   ],
   "source": [
    "avg_turnover_30d = price_30d.groupby('Ticker')[['Turnover']].mean()\n",
    "\n",
    "avg_turnover_30d.head()"
   ]
  },
  {
   "cell_type": "code",
   "execution_count": 9,
   "id": "86e394af-50c2-466b-b255-e4acaa1157a5",
   "metadata": {},
   "outputs": [
    {
     "data": {
      "text/plain": [
       "790"
      ]
     },
     "execution_count": 9,
     "metadata": {},
     "output_type": "execute_result"
    }
   ],
   "source": [
    "tradable_universe = avg_turnover_30d[avg_turnover_30d['Turnover'] >= 50 * 10 ** 6].index.tolist()\n",
    "len(tradable_universe)"
   ]
  },
  {
   "cell_type": "code",
   "execution_count": 15,
   "id": "1d5e5a7f-40d6-4d3c-9d29-1a4a7d1804e7",
   "metadata": {},
   "outputs": [],
   "source": [
    "price = api.get_data(\n",
    "    tradable_universe, 'Close', start=ref_date, end=fwd_date, \n",
    "    adj='y', fill_prev='y'\n",
    ")"
   ]
  },
  {
   "cell_type": "code",
   "execution_count": 18,
   "id": "6dd4200a-7ada-4b3e-b81a-a1f39b9f08a6",
   "metadata": {},
   "outputs": [
    {
     "data": {
      "text/plain": [
       "<pandas.core.groupby.generic.DataFrameGroupBy object at 0x7f7bc8688250>"
      ]
     },
     "execution_count": 18,
     "metadata": {},
     "output_type": "execute_result"
    }
   ],
   "source": []
  },
  {
   "cell_type": "code",
   "execution_count": null,
   "id": "08c7ddd6-2dbf-4b52-ab4b-0d2d7d6bc0b0",
   "metadata": {},
   "outputs": [],
   "source": [
    "sh_out = api.get_data(\n",
    "    tradable_universe, 'Shares Outstanding', \n",
    "    start=ref_date, end=ref_date, fill_prev='y'\n",
    ")\n",
    "\n",
    "price_unadjusted = api.get_data(\n",
    "    tradable_universe, 'Close', start=ref_date, end=ref_date, \n",
    "    adj='n', fill_prev='y'\n",
    ")\n",
    "\n",
    "price_unadjusted['Mkt Cap'] = sh_out['Shares Outstanding'] * price_unadjusted['Close']\n",
    "price_unadjusted"
   ]
  },
  {
   "cell_type": "code",
   "execution_count": null,
   "id": "64161368-ec93-4ad5-a65d-45b8494234c5",
   "metadata": {},
   "outputs": [],
   "source": [
    "price = api.get_data(\n",
    "    tradable_universe, 'Close', start=ref_date, end=ref_date, \n",
    "    adj='y', fill_prev='y'\n",
    ")\n",
    "\n",
    "price_fwd = api.get_data(\n",
    "    tradable_universe, 'Close', start=fwd_date, end=fwd_date, \n",
    "    adj='y', fill_prev='y'\n",
    ")\n",
    "\n",
    "price['Forward Return'] = (price_fwd['Close'] / price['Close'] - 1) * 100\n",
    "\n",
    "price"
   ]
  },
  {
   "cell_type": "code",
   "execution_count": null,
   "id": "fb1e78df-08bb-4461-a08f-6c1b259f6c77",
   "metadata": {},
   "outputs": [],
   "source": [
    "price['Mkt Cap'] = price_unadjusted['Mkt Cap']\n",
    "price"
   ]
  },
  {
   "cell_type": "code",
   "execution_count": null,
   "id": "1042de9d-e096-4c7e-9c9b-be7cd4ff57d0",
   "metadata": {},
   "outputs": [],
   "source": [
    "interval = timedelta(days=365)\n",
    "\n",
    "price_1y = api.get_data(\n",
    "    large_cap_tickers, 'Close', start=ref_date - interval, end=ref_date - interval, \n",
    "    adj='y', fill_prev='y'\n",
    ")\n",
    "\n",
    "price['Momentum'] = (price['Close'] / price_1y['Close'] - 1) * 100\n",
    "price"
   ]
  },
  {
   "cell_type": "code",
   "execution_count": null,
   "id": "0378da81-080b-492c-956d-151d6e0a6aee",
   "metadata": {},
   "outputs": [],
   "source": [
    "len(price.dropna())"
   ]
  },
  {
   "cell_type": "code",
   "execution_count": null,
   "id": "b844e861-a597-494e-aebc-f6c6a472c5ae",
   "metadata": {},
   "outputs": [],
   "source": [
    "price = price.dropna().copy()"
   ]
  },
  {
   "cell_type": "code",
   "execution_count": null,
   "id": "5a145e05-4cc7-491d-af74-157bfd5d459a",
   "metadata": {},
   "outputs": [],
   "source": [
    "num_q = 5\n",
    "price['Mkt Cap Q'] = pd.qcut(price['Mkt Cap'], num_q, labels=range(1, num_q+1))\n",
    "price['Momentum Q'] = pd.qcut(price['Momentum'], num_q, labels=range(1, num_q+1))\n",
    "price"
   ]
  },
  {
   "cell_type": "code",
   "execution_count": null,
   "id": "05dd912d-74d9-46af-99bb-5386b0d6e298",
   "metadata": {},
   "outputs": [],
   "source": [
    "price.groupby('Mkt Cap Q')[['Forward Return']].mean()"
   ]
  },
  {
   "cell_type": "code",
   "execution_count": null,
   "id": "1c1a1e0f-685f-4895-8d11-e206373f4e5e",
   "metadata": {},
   "outputs": [],
   "source": [
    "price.groupby('Momentum Q')[['Forward Return']].mean()"
   ]
  },
  {
   "cell_type": "code",
   "execution_count": null,
   "id": "e39f626b-a331-4690-8639-6a0c4b15b5ff",
   "metadata": {},
   "outputs": [],
   "source": [
    "net_income = api.get_data(\n",
    "    universe, 'Net Income', pt='ttm', offset_start=0, offset_end=0, \n",
    "    as_of_date_start=ref_date, as_of_date_end=ref_date\n",
    ")\n",
    "\n",
    "sh_out = api.get_data(\n",
    "    universe, 'Shares Outstanding', \n",
    "    start=ref_date, end=ref_date, fill_prev='y'\n",
    ")\n",
    "\n",
    "net_income['EPS'] = net_income['Net Income'] / sh_out['Shares Outstanding']\n",
    "net_income"
   ]
  },
  {
   "cell_type": "code",
   "execution_count": null,
   "id": "1970f9b1-a9bf-400f-8efa-256cbc1ab1b0",
   "metadata": {},
   "outputs": [],
   "source": [
    "net_income['EPS Q'] = pd.qcut(net_income['EPS'], num_q, labels=range(1, num_q+1))\n",
    "net_income['Forward Return'] = price['Forward Return']\n",
    "net_income[net_income['EPS'] > 0].groupby('EPS Q')[['Forward Return']].mean()"
   ]
  },
  {
   "cell_type": "code",
   "execution_count": null,
   "id": "fc4cda01-4df4-42b3-a172-189af5d33d97",
   "metadata": {},
   "outputs": [],
   "source": []
  }
 ],
 "metadata": {
  "kernelspec": {
   "display_name": "Python 3",
   "language": "python",
   "name": "python3"
  },
  "language_info": {
   "codemirror_mode": {
    "name": "ipython",
    "version": 3
   },
   "file_extension": ".py",
   "mimetype": "text/x-python",
   "name": "python",
   "nbconvert_exporter": "python",
   "pygments_lexer": "ipython3",
   "version": "3.9.2"
  }
 },
 "nbformat": 4,
 "nbformat_minor": 5
}
