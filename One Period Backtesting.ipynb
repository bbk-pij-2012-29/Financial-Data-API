{
 "cells": [
  {
   "cell_type": "code",
   "execution_count": 1,
   "id": "d37c54a5-4305-43e9-9ca7-9e502cae247c",
   "metadata": {},
   "outputs": [],
   "source": [
    "%load_ext autoreload\n",
    "%autoreload 2"
   ]
  },
  {
   "cell_type": "code",
   "execution_count": 2,
   "id": "60dfca0e-8e8a-42c2-8e03-1ac3ff862feb",
   "metadata": {},
   "outputs": [],
   "source": [
    "from FinancialDataAPI import FinancialDataAPI\n",
    "from datetime import date, datetime, timedelta\n",
    "import pandas as pd\n",
    "import numpy as np"
   ]
  },
  {
   "cell_type": "code",
   "execution_count": null,
   "id": "4b5a5515-697a-43fe-ad13-a29a48947871",
   "metadata": {},
   "outputs": [],
   "source": [
    "api = FinancialDataAPI()"
   ]
  },
  {
   "cell_type": "code",
   "execution_count": null,
   "id": "1386e43f-24ce-4277-8d55-1d62d7f1d518",
   "metadata": {},
   "outputs": [],
   "source": [
    "ref_date = date(2017, 12, 31)\n",
    "fwd_date = date(2018, 1, 31)"
   ]
  },
  {
   "cell_type": "code",
   "execution_count": null,
   "id": "3e2af99c-8de0-4ac4-a695-14eba68a73fd",
   "metadata": {},
   "outputs": [],
   "source": [
    "api.get_classification()"
   ]
  },
  {
   "cell_type": "code",
   "execution_count": null,
   "id": "45190f48-4e78-4a23-b45e-554fa15aefd1",
   "metadata": {},
   "outputs": [],
   "source": [
    "universe = api.get_ticker_by_classification(['Industrials'], as_of_date=ref_date)\n",
    "len(universe)"
   ]
  },
  {
   "cell_type": "code",
   "execution_count": null,
   "id": "e6aa50bf-2464-415d-9e97-821fac2b8952",
   "metadata": {},
   "outputs": [],
   "source": [
    "api.display_field_info('Close')"
   ]
  },
  {
   "cell_type": "code",
   "execution_count": null,
   "id": "1042de9d-e096-4c7e-9c9b-be7cd4ff57d0",
   "metadata": {},
   "outputs": [],
   "source": [
    "interval = timedelta(days=365)\n",
    "\n",
    "price_1y = api.get_data(\n",
    "    universe, 'Close', start=ref_date - interval, end=ref_date - interval, \n",
    "    adj='y', fill_prev='y'\n",
    ")\n",
    "\n",
    "price = api.get_data(\n",
    "    universe, 'Close', start=ref_date, end=ref_date, \n",
    "    adj='y', fill_prev='y'\n",
    ")\n",
    "\n",
    "price['Momentum'] = (price['Close'] / price_1y['Close'] - 1) * 100\n",
    "price"
   ]
  },
  {
   "cell_type": "code",
   "execution_count": null,
   "id": "5a145e05-4cc7-491d-af74-157bfd5d459a",
   "metadata": {},
   "outputs": [],
   "source": [
    "price['Momentum Q'] = pd.qcut(price['Momentum'], 5, labels=range(1, 6))\n",
    "price"
   ]
  },
  {
   "cell_type": "code",
   "execution_count": null,
   "id": "ac7cd704-9931-4a08-b95f-8a5bcfc9c699",
   "metadata": {},
   "outputs": [],
   "source": [
    "price_fwd = api.get_data(\n",
    "    universe, 'Close', start=fwd_date, end=fwd_date, \n",
    "    adj='y', fill_prev='y'\n",
    ")\n",
    "\n",
    "price['Forward Return'] = (price_fwd['Close'] / price['Close'] - 1) * 100\n",
    "\n",
    "price"
   ]
  },
  {
   "cell_type": "code",
   "execution_count": null,
   "id": "1c1a1e0f-685f-4895-8d11-e206373f4e5e",
   "metadata": {},
   "outputs": [],
   "source": [
    "price.groupby('Momentum Q')[['Forward Return']].mean()"
   ]
  },
  {
   "cell_type": "code",
   "execution_count": null,
   "id": "5ba9972d-26a3-4265-b75a-be3dbe262af6",
   "metadata": {},
   "outputs": [],
   "source": [
    "api.display_field_info('share')"
   ]
  },
  {
   "cell_type": "code",
   "execution_count": null,
   "id": "e39f626b-a331-4690-8639-6a0c4b15b5ff",
   "metadata": {},
   "outputs": [],
   "source": [
    "net_income = api.get_data(\n",
    "    universe, 'Net Income', pt='ttm', offset_start=0, offset_end=0, \n",
    "    as_of_date_start=ref_date, as_of_date_end=ref_date\n",
    ")\n",
    "\n",
    "sh_out = api.get_data(\n",
    "    universe, 'Shares Outstanding', \n",
    "    start=ref_date, end=ref_date, fill_prev='y'\n",
    ")\n",
    "\n",
    "eps = net_income['Net Income'] / sh_out['Shares Outstanding']\n",
    "eps"
   ]
  },
  {
   "cell_type": "code",
   "execution_count": null,
   "id": "1970f9b1-a9bf-400f-8efa-256cbc1ab1b0",
   "metadata": {},
   "outputs": [],
   "source": []
  }
 ],
 "metadata": {
  "kernelspec": {
   "display_name": "Python 3",
   "language": "python",
   "name": "python3"
  },
  "language_info": {
   "codemirror_mode": {
    "name": "ipython",
    "version": 3
   },
   "file_extension": ".py",
   "mimetype": "text/x-python",
   "name": "python",
   "nbconvert_exporter": "python",
   "pygments_lexer": "ipython3",
   "version": "3.9.2"
  }
 },
 "nbformat": 4,
 "nbformat_minor": 5
}
